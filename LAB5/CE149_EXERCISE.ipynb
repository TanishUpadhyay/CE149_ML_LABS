{
  "nbformat": 4,
  "nbformat_minor": 0,
  "metadata": {
    "colab": {
      "provenance": [],
      "include_colab_link": true
    },
    "kernelspec": {
      "name": "python3",
      "display_name": "Python 3"
    },
    "language_info": {
      "name": "python"
    }
  },
  "cells": [
    {
      "cell_type": "markdown",
      "metadata": {
        "id": "view-in-github",
        "colab_type": "text"
      },
      "source": [
        "<a href=\"https://colab.research.google.com/github/TanishUpadhyay/ML_termwork/blob/main/LAB5/CE149_EXERCISE.ipynb\" target=\"_parent\"><img src=\"https://colab.research.google.com/assets/colab-badge.svg\" alt=\"Open In Colab\"/></a>"
      ]
    },
    {
      "cell_type": "markdown",
      "source": [
        " **LAB 05**\n",
        "EXERCISE"
      ],
      "metadata": {
        "id": "pku1c5CGrHSk"
      }
    },
    {
      "cell_type": "markdown",
      "source": [
        "## **Task 1: Try the algo on Same Weather dataset - LabelEncoding of features:and Train test Division 95%-5%**"
      ],
      "metadata": {
        "id": "V1t6gmzurRNX"
      }
    },
    {
      "cell_type": "code",
      "execution_count": 34,
      "metadata": {
        "colab": {
          "base_uri": "https://localhost:8080/",
          "height": 283
        },
        "id": "5HVOME3Xq2zJ",
        "outputId": "03c430a3-bbe4-4153-99fb-d39205924796"
      },
      "outputs": [
        {
          "output_type": "stream",
          "name": "stdout",
          "text": [
            "test_pred :  [0]\n",
            "test_output :  [1]\n"
          ]
        },
        {
          "output_type": "display_data",
          "data": {
            "text/plain": [
              "<Figure size 432x288 with 1 Axes>"
            ],
            "image/png": "[encoded data removed]"
          },
          "metadata": {
            "needs_background": "light"
          }
        }
      ],
      "source": [
        "outlook = ['Rainy', 'Rainy', 'Overcast', 'Sunny', 'Sunny', 'Sunny','Overcast','Rainy', 'Rainy', 'Sunny', 'Rainy','Overcast', 'Overcast','Sunny']\n",
        "temp = ['Hot', 'Hot', 'Hot', 'Mild', 'Cool', 'Cool', 'Cool','Mild', 'Cool', 'Mild', 'Mild', 'Mild', 'Hot', 'Mild']\n",
        "humidity = ['High', 'High', 'High', 'High', 'Normal', 'Normal', 'Normal','High', 'Normal', 'Normal', 'Normal', 'High', 'Normal','High']\n",
        "wind = ['False', 'True', 'False', 'False', 'False', 'True', 'True','False', 'False', 'False', 'True', 'True', 'False', 'True']\n",
        "play = ['No', 'No', 'Yes', 'Yes', 'Yes', 'No', 'Yes', 'No','Yes', 'Yes', 'Yes', 'Yes', 'Yes', 'No']\n",
        "\n",
        "from sklearn import preprocessing\n",
        "\n",
        "prepro=preprocessing\n",
        "\n",
        "lb=prepro.LabelEncoder()\n",
        "\n",
        "outlook=lb.fit_transform(outlook)\n",
        "temp=lb.fit_transform(temp)\n",
        "humidity=lb.fit_transform(humidity)\n",
        "wind=lb.fit_transform(wind)\n",
        "play=lb.fit_transform(play)\n",
        "\n",
        "from sklearn import tree\n",
        "from sklearn.tree import DecisionTreeClassifier\n",
        "\n",
        "input=list(zip(outlook,temp,humidity,wind))\n",
        "output=play\n",
        "\n",
        "ri=0\n",
        "for row in input:\n",
        "  input[ri]=list(row)\n",
        "  ri+=1\n",
        "\n",
        "\n",
        "from sklearn.model_selection import train_test_split\n",
        "train_input,test_input,train_output,test_output = train_test_split(input,output,\n",
        "                                   random_state=149, \n",
        "                                   test_size=0.05, \n",
        "                                   shuffle=True)\n",
        "\n",
        "model=DecisionTreeClassifier()\n",
        "model.fit(train_input,train_output)\n",
        "\n",
        "tree.plot_tree(model)\n",
        "\n",
        "test_pred=model.predict(test_input)\n",
        "print(\"test_pred : \",test_pred)\n",
        "print(\"test_output : \",test_output)\n",
        "\n"
      ]
    },
    {
      "cell_type": "code",
      "source": [
        "from sklearn.metrics import confusion_matrix\n",
        "confusion_matrix(test_pred,test_output)"
      ],
      "metadata": {
        "colab": {
          "base_uri": "https://localhost:8080/"
        },
        "id": "rvmzB-YfP1aq",
        "outputId": "11f672ab-3ca9-4e60-dd0d-ccfd0ed4407c"
      },
      "execution_count": 24,
      "outputs": [
        {
          "output_type": "execute_result",
          "data": {
            "text/plain": [
              "array([[0, 1],\n",
              "       [0, 0]])"
            ]
          },
          "metadata": {},
          "execution_count": 24
        }
      ]
    },
    {
      "cell_type": "code",
      "source": [
        "# print(confusion_matrix(test_output,test_pred))\n",
        "# print(classification_report(test_output,test_pred))\n",
        "def perf_measure(y_actual, y_hat):\n",
        "    TP = 0\n",
        "    FP = 0\n",
        "    TN = 0\n",
        "    FN = 0\n",
        "\n",
        "    for i in range(len(y_hat)): \n",
        "        if y_actual[i]==y_hat[i]==1:\n",
        "           TP += 1\n",
        "        if y_hat[i]==1 and y_actual[i]!=y_hat[i]:\n",
        "           FP += 1\n",
        "        if y_actual[i]==y_hat[i]==0:\n",
        "           TN += 1\n",
        "        if y_hat[i]==0 and y_actual[i]!=y_hat[i]:\n",
        "           FN += 1\n",
        "\n",
        "    return(TP, FP, TN, FN)\n",
        "\n"
      ],
      "metadata": {
        "id": "AWrRyMMtSZ_r"
      },
      "execution_count": 35,
      "outputs": []
    },
    {
      "cell_type": "code",
      "source": [
        "perf_measure(test_output,test_pred)"
      ],
      "metadata": {
        "colab": {
          "base_uri": "https://localhost:8080/"
        },
        "id": "rvDvAL6lY5em",
        "outputId": "f8de1f01-35ae-4679-bbec-006337864e33"
      },
      "execution_count": 36,
      "outputs": [
        {
          "output_type": "execute_result",
          "data": {
            "text/plain": [
              "(0, 0, 0, 1)"
            ]
          },
          "metadata": {},
          "execution_count": 36
        }
      ]
    },
    {
      "cell_type": "markdown",
      "source": [
        "## **Task 2: Apply algorithm on wine dataset - LabelEncoding of features: and Train test Division 66%-34%**"
      ],
      "metadata": {
        "id": "NArKk3OnryLZ"
      }
    },
    {
      "cell_type": "code",
      "source": [
        "from sklearn.datasets import load_wine\n",
        "wine= load_wine()\n",
        "input=wine.data\n",
        "output=wine.target\n",
        "\n",
        "from sklearn import tree\n",
        "from sklearn.tree import DecisionTreeClassifier\n",
        "from sklearn.metrics import confusion_matrix\n",
        "from sklearn.metrics import classification_report\n",
        "from sklearn.model_selection import train_test_split\n",
        "train_input,test_input,train_output,test_output = train_test_split(input,output,\n",
        "                                   random_state=149, \n",
        "                                   test_size=0.34, \n",
        "                                   shuffle=True)\n",
        "\n",
        "\n",
        "model=DecisionTreeClassifier()\n",
        "model.fit(train_input,train_output)\n",
        "\n",
        "test_pred=model.predict(test_input)\n",
        "\n",
        "cmat=confusion_matrix(test_pred,test_output)\n",
        "\n",
        "truth=sum(cmat[i][i] for i in range(len(cmat)))\n",
        "total=0\n",
        "for row in cmat:\n",
        "  for elem in row:\n",
        "    total+=elem\n",
        "accuracy=truth/total\n",
        "print(\"accuracy : \",accuracy)"
      ],
      "metadata": {
        "colab": {
          "base_uri": "https://localhost:8080/"
        },
        "id": "t09tUfYKrviK",
        "outputId": "0fc29975-6baf-4c95-ff4e-1c08214df61e"
      },
      "execution_count": 26,
      "outputs": [
        {
          "output_type": "stream",
          "name": "stdout",
          "text": [
            "accuracy :  0.9344262295081968\n"
          ]
        }
      ]
    },
    {
      "cell_type": "code",
      "source": [
        "print(confusion_matrix(test_output,test_pred))\n",
        "print(classification_report(test_output,test_pred))\n"
      ],
      "metadata": {
        "colab": {
          "base_uri": "https://localhost:8080/"
        },
        "id": "J8rZClFHQsz-",
        "outputId": "33b6420e-2ba0-4d78-cf0c-6e1fd0ff0359"
      },
      "execution_count": 27,
      "outputs": [
        {
          "output_type": "stream",
          "name": "stdout",
          "text": [
            "[[17  0  0]\n",
            " [ 2 23  2]\n",
            " [ 0  0 17]]\n",
            "              precision    recall  f1-score   support\n",
            "\n",
            "           0       0.89      1.00      0.94        17\n",
            "           1       1.00      0.85      0.92        27\n",
            "           2       0.89      1.00      0.94        17\n",
            "\n",
            "    accuracy                           0.93        61\n",
            "   macro avg       0.93      0.95      0.94        61\n",
            "weighted avg       0.94      0.93      0.93        61\n",
            "\n"
          ]
        }
      ]
    }
  ]
}