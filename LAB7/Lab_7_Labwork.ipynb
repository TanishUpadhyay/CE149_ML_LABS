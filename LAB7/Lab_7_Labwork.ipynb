{
  "nbformat": 4,
  "nbformat_minor": 0,
  "metadata": {
    "colab": {
      "provenance": [],
      "include_colab_link": true
    },
    "kernelspec": {
      "name": "python3",
      "display_name": "Python 3"
    },
    "language_info": {
      "name": "python"
    }
  },
  "cells": [
    {
      "cell_type": "markdown",
      "metadata": {
        "id": "view-in-github",
        "colab_type": "text"
      },
      "source": [
        "<a href=\"https://colab.research.google.com/github/TanishUpadhyay/ML_termwork/blob/main/LAB7/Lab_7_Labwork.ipynb\" target=\"_parent\"><img src=\"https://colab.research.google.com/assets/colab-badge.svg\" alt=\"Open In Colab\"/></a>"
      ]
    },
    {
      "cell_type": "markdown",
      "source": [
        " **LAB : 7LABWORK**"
      ],
      "metadata": {
        "id": "8tMxaZ4h5rjt"
      }
    },
    {
      "cell_type": "code",
      "execution_count": null,
      "metadata": {
        "id": "5slHt29QmzBJ"
      },
      "outputs": [],
      "source": [
        "import numpy as np\n",
        "import pandas as pd\n",
        "import io\n",
        "import matplotlib.pyplot as plt\n",
        "from google.colab import drive\n",
        "drive.mount(\"/content/drive\")"
      ]
    },
    {
      "cell_type": "code",
      "source": [
        "from google.colab import drive\n",
        "drive.mount(\"/content/drive\")\n",
        "data = pd.read_csv(\"/content/drive/MyDrive/sem 6/ML/LAB 7/BuyComputer.csv\")\n",
        "print(\"\\nData :\\n\",data)"
      ],
      "metadata": {
        "id": "onabsBNcovVT"
      },
      "execution_count": null,
      "outputs": []
    },
    {
      "cell_type": "code",
      "source": [
        "data.drop(columns=['User ID',],axis=1,inplace=True)\n",
        "data.head()"
      ],
      "metadata": {
        "id": "1BJ3Ju4zpcqZ"
      },
      "execution_count": null,
      "outputs": []
    },
    {
      "cell_type": "code",
      "source": [
        "features_Cols=['Age' ,'EstimatedSalary']\n",
        "x = data.iloc[:, :-1].values\n",
        "y = data.iloc[:, -1].values\n"
      ],
      "metadata": {
        "id": "cu9-xvWUr685"
      },
      "execution_count": null,
      "outputs": []
    },
    {
      "cell_type": "code",
      "source": [
        "from sklearn.model_selection import train_test_split\n",
        "X_train, X_test, y_train, y_test =train_test_split(x,y,test_size=0.1)\n"
      ],
      "metadata": {
        "id": "_0MTkHwIrmW6"
      },
      "execution_count": null,
      "outputs": []
    },
    {
      "cell_type": "code",
      "source": [
        "from sklearn.preprocessing import StandardScaler\n",
        "sc = StandardScaler()\n",
        "X_train = sc.fit_transform(X_train)\n",
        "X_test = sc.transform(X_test)\n"
      ],
      "metadata": {
        "id": "rC8xio9Dshsw"
      },
      "execution_count": null,
      "outputs": []
    },
    {
      "cell_type": "code",
      "source": [
        "def sigmoid(z):\n",
        "  sig = 1/(1+exp(-z))\n",
        "  return sig"
      ],
      "metadata": {
        "id": "UJ-nEuIl0w35"
      },
      "execution_count": null,
      "outputs": []
    },
    {
      "cell_type": "code",
      "source": [
        "def standardize(X_tr):\n",
        "    for i in range(shape(X_tr)[1]):\n",
        "        X_tr[:,i] = (X_tr[:,i] - np.mean(X_tr[:,i]))/np.std(X_tr[:,i])"
      ],
      "metadata": {
        "id": "R0luQm5b07mA"
      },
      "execution_count": null,
      "outputs": []
    },
    {
      "cell_type": "code",
      "source": [
        "def F1_score(y,y_hat):\n",
        "    tp,tn,fp,fn = 0,0,0,0\n",
        "    for i in range(len(y)):\n",
        "        if y[i] == 1 and y_hat[i] == 1:\n",
        "            tp += 1\n",
        "        elif y[i] == 1 and y_hat[i] == 0:\n",
        "            fn += 1\n",
        "        elif y[i] == 0 and y_hat[i] == 1:\n",
        "            fp += 1\n",
        "        elif y[i] == 0 and y_hat[i] == 0:\n",
        "            tn += 1\n",
        "    precision = tp/(tp+fp)\n",
        "    recall = tp/(tp+fn)\n",
        "    f1_score = 2*precision*recall/(precision+recall)\n",
        "    return f1_score"
      ],
      "metadata": {
        "id": "RHP6whlk2czP"
      },
      "execution_count": null,
      "outputs": []
    },
    {
      "cell_type": "markdown",
      "source": [
        " **MODEL**"
      ],
      "metadata": {
        "id": "J2DusZ8vG8Jt"
      }
    },
    {
      "cell_type": "code",
      "source": [
        "from numpy import log,dot,exp,shape\n",
        "class LogisticRegression:\n",
        "    def sigmoid(self,z):\n",
        "        sig = 1/(1+exp(-z))\n",
        "        return sig\n",
        "    def initialize(self,X):\n",
        "        weights = np.zeros((shape(X)[1]+1,1))\n",
        "        X = np.c_[np.ones((shape(X)[0],1)),X]\n",
        "        return weights,X\n",
        "    def fit(self,X,y,alpha=0.002,iter=3000):\n",
        "        weights,X = self.initialize(X)\n",
        "        # Binary Cross Entropy Loss\n",
        "        def cost(theta):\n",
        "            z = dot(X,theta)\n",
        "            cost0 = y.T.dot(log(self.sigmoid(z)))\n",
        "            cost1 = (1-y).T.dot(log(1-self.sigmoid(z)))\n",
        "            cost = -((cost1 + cost0))/len(y)\n",
        "            return cost\n",
        "            # MSE LOSS\n",
        "        # def cost(theta):\n",
        "        #   z = dot(X,theta)\n",
        "        #   cost = (self.sigmoid(z) - y)**2;\n",
        "        #   return cost\n",
        "        cost_list = np.zeros(iter,)\n",
        "        for i in range(iter):\n",
        "            weights = weights - alpha*dot(X.T,self.sigmoid(dot(X,weights))-np.reshape(y,(len(y),1)))\n",
        "            cost_list[i] = cost(weights)\n",
        "        self.weights = weights\n",
        "        return cost_list\n",
        "    def predict(self,X):\n",
        "        z = dot(self.initialize(X)[1],self.weights)\n",
        "        lis = []\n",
        "        for i in self.sigmoid(z):\n",
        "            if i>0.5:\n",
        "                lis.append(1)\n",
        "            else:\n",
        "                lis.append(0)\n",
        "        return lis"
      ],
      "metadata": {
        "id": "VZyrA0P7yZ-Z"
      },
      "execution_count": null,
      "outputs": []
    },
    {
      "cell_type": "code",
      "source": [
        "standardize(X_train)\n",
        "standardize(X_test)\n",
        "obj1 = LogisticRegression()"
      ],
      "metadata": {
        "id": "dEWDQSVQygsJ"
      },
      "execution_count": null,
      "outputs": []
    },
    {
      "cell_type": "code",
      "source": [
        "model= obj1.fit(X_train,y_train)\n",
        "print(\"Indivisual Cost :\")\n",
        "print(model)\n",
        "print(\"Total Cost :\")\n",
        "print(sum(model))\n",
        "y_pred = obj1.predict(X_test)\n",
        "y_tr = obj1.predict(X_train)"
      ],
      "metadata": {
        "colab": {
          "base_uri": "https://localhost:8080/"
        },
        "id": "NfxSR5If2OQB",
        "outputId": "3b65c597-c403-4bf8-9e11-d7083530f27c"
      },
      "execution_count": null,
      "outputs": [
        {
          "output_type": "stream",
          "name": "stdout",
          "text": [
            "Indivisual Cost :\n",
            "[0.60571152 0.54893591 0.51053763 ... 0.36121907 0.36121907 0.36121907]\n",
            "Total Cost :\n",
            "1085.3815445029295\n"
          ]
        }
      ]
    },
    {
      "cell_type": "code",
      "source": [
        "f1_score_tr = F1_score(y_train,y_tr)\n",
        "f1_score_te = F1_score(y_test,y_pred)\n",
        "print(\"Performance Using Defining The Model On Training Data\")\n",
        "print(f1_score_tr)\n",
        "print(\"Performance Using Defining The Model On Test Data\")\n",
        "print(f1_score_te)"
      ],
      "metadata": {
        "id": "pBhXZNA42gzx",
        "colab": {
          "base_uri": "https://localhost:8080/"
        },
        "outputId": "2405582d-43ec-4e30-c848-bc7fac9db325"
      },
      "execution_count": null,
      "outputs": [
        {
          "output_type": "stream",
          "name": "stdout",
          "text": [
            "Performance Using Defining The Model On Training Data\n",
            "0.7777777777777778\n",
            "Performance Using Defining The Model On Test Data\n",
            "0.782608695652174\n"
          ]
        }
      ]
    },
    {
      "cell_type": "code",
      "source": [
        "from sklearn.linear_model import LogisticRegression\n",
        "from sklearn.metrics import f1_score\n",
        "LR = LogisticRegression(random_state = 0)\n",
        "LR.fit(X_train,y_train)\n",
        "y_pred=LR.predict(X_test)\n",
        "print(\"Performance Using InBuilt LogisticRegression Model On Test Data\")\n",
        "print(f1_score(y_test,y_pred))"
      ],
      "metadata": {
        "id": "KYU4NGKv4KQZ",
        "colab": {
          "base_uri": "https://localhost:8080/"
        },
        "outputId": "43a73856-8062-47c1-e29e-9d9043865c78"
      },
      "execution_count": null,
      "outputs": [
        {
          "output_type": "stream",
          "name": "stdout",
          "text": [
            "Performance Using InBuilt LogisticRegression Model On Test Data\n",
            "0.782608695652174\n"
          ]
        }
      ]
    }
  ]
}